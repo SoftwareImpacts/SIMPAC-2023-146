{
 "cells": [
  {
   "cell_type": "code",
   "execution_count": 2,
   "metadata": {},
   "outputs": [],
   "source": [
    "from envtext import  BertMLM\n",
    "model = BertMLM(\"../../../2022Spring/EnvText/models/envbert/\")\n",
    "model(\"在全球气候大会上，[MASK][MASK][MASK][MASK]是各国政府都关心的话题\")"
   ]
  },
  {
   "cell_type": "code",
   "execution_count": 5,
   "metadata": {},
   "outputs": [
    {
     "name": "stdout",
     "output_type": "stream",
     "text": [
      "text:在全球气候大会上，[MASK][MASK][MASK][MASK]是各国政府都关心的话题 \n",
      "  predict: ['气', '体', '减', '少'] ; probability: 0.5166 \n",
      "  predict: ['气', '体', '减', '排'] ; probability: 0.5166 \n",
      "  predict: ['气', '体', '减', '碳'] ; probability: 0.5166 \n",
      "  predict: ['气', '体', '减', '缓'] ; probability: 0.5166 \n",
      "  predict: ['气', '体', '减', '量'] ; probability: 0.5166 \n",
      "\n"
     ]
    }
   ],
   "source": []
  }
 ],
 "metadata": {
  "kernelspec": {
   "display_name": "torch",
   "language": "python",
   "name": "python3"
  },
  "language_info": {
   "codemirror_mode": {
    "name": "ipython",
    "version": 3
   },
   "file_extension": ".py",
   "mimetype": "text/x-python",
   "name": "python",
   "nbconvert_exporter": "python",
   "pygments_lexer": "ipython3",
   "version": "3.8.13"
  },
  "orig_nbformat": 4
 },
 "nbformat": 4,
 "nbformat_minor": 2
}
