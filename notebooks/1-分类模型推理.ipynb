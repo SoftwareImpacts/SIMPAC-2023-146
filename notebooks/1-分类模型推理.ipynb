{
 "cells": [
  {
   "attachments": {},
   "cell_type": "markdown",
   "metadata": {},
   "source": [
    "## 1. 分类模型推理\n",
    "\n",
    "文本分类是一项基本任务，envtext中预置了若干个分类模型，可供直接使用。"
   ]
  },
  {
   "cell_type": "code",
   "execution_count": 1,
   "metadata": {},
   "outputs": [
    {
     "ename": "ModuleNotFoundError",
     "evalue": "No module named 'envtext'",
     "output_type": "error",
     "traceback": [
      "\u001b[1;31m---------------------------------------------------------------------------\u001b[0m",
      "\u001b[1;31mModuleNotFoundError\u001b[0m                       Traceback (most recent call last)",
      "\u001b[1;32md:\\2023Spring\\envtext\\notebooks\\1-分类模型推理.ipynb Cell 2\u001b[0m in \u001b[0;36m<cell line: 1>\u001b[1;34m()\u001b[0m\n\u001b[1;32m----> <a href='vscode-notebook-cell:/d%3A/2023Spring/envtext/notebooks/1-%E5%88%86%E7%B1%BB%E6%A8%A1%E5%9E%8B%E6%8E%A8%E7%90%86.ipynb#W1sZmlsZQ%3D%3D?line=0'>1</a>\u001b[0m \u001b[39mfrom\u001b[39;00m \u001b[39menvtext\u001b[39;00m \u001b[39mimport\u001b[39;00m Config\n\u001b[0;32m      <a href='vscode-notebook-cell:/d%3A/2023Spring/envtext/notebooks/1-%E5%88%86%E7%B1%BB%E6%A8%A1%E5%9E%8B%E6%8E%A8%E7%90%86.ipynb#W1sZmlsZQ%3D%3D?line=1'>2</a>\u001b[0m Config\u001b[39m.\u001b[39mpretrained_cls_models\n",
      "\u001b[1;31mModuleNotFoundError\u001b[0m: No module named 'envtext'"
     ]
    }
   ],
   "source": [
    "from envtext import Config\n",
    "Config.pretrained_cls_models"
   ]
  }
 ],
 "metadata": {
  "kernelspec": {
   "display_name": "torch",
   "language": "python",
   "name": "python3"
  },
  "language_info": {
   "codemirror_mode": {
    "name": "ipython",
    "version": 3
   },
   "file_extension": ".py",
   "mimetype": "text/x-python",
   "name": "python",
   "nbconvert_exporter": "python",
   "pygments_lexer": "ipython3",
   "version": "3.8.13"
  },
  "orig_nbformat": 4
 },
 "nbformat": 4,
 "nbformat_minor": 2
}
